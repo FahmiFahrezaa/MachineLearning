{
 "cells": [
  {
   "cell_type": "code",
   "execution_count": 20,
   "metadata": {
    "id": "pzMFlf5XtS90"
   },
   "outputs": [],
   "source": [
    "import pandas as pd\n",
    "import numpy as np\n",
    "from matplotlib import pyplot as plt"
   ]
  },
  {
   "cell_type": "code",
   "execution_count": 21,
   "metadata": {
    "id": "2jm2kIEetS92"
   },
   "outputs": [],
   "source": [
    "dataset = pd.read_csv(\"estate.csv\")"
   ]
  },
  {
   "cell_type": "code",
   "execution_count": 22,
   "metadata": {
    "colab": {
     "base_uri": "https://localhost:8080/",
     "height": 433
    },
    "id": "_Kwt7sz75xZm",
    "outputId": "b5bcf9f1-2223-498a-d031-00d91180bf61"
   },
   "outputs": [
    {
     "data": {
      "text/html": [
       "<div>\n",
       "<style scoped>\n",
       "    .dataframe tbody tr th:only-of-type {\n",
       "        vertical-align: middle;\n",
       "    }\n",
       "\n",
       "    .dataframe tbody tr th {\n",
       "        vertical-align: top;\n",
       "    }\n",
       "\n",
       "    .dataframe thead th {\n",
       "        text-align: right;\n",
       "    }\n",
       "</style>\n",
       "<table border=\"1\" class=\"dataframe\">\n",
       "  <thead>\n",
       "    <tr style=\"text-align: right;\">\n",
       "      <th></th>\n",
       "      <th>distance_to_station</th>\n",
       "      <th>house_price</th>\n",
       "    </tr>\n",
       "  </thead>\n",
       "  <tbody>\n",
       "    <tr>\n",
       "      <th>0</th>\n",
       "      <td>84.87882</td>\n",
       "      <td>37.9</td>\n",
       "    </tr>\n",
       "    <tr>\n",
       "      <th>1</th>\n",
       "      <td>306.59470</td>\n",
       "      <td>42.2</td>\n",
       "    </tr>\n",
       "    <tr>\n",
       "      <th>2</th>\n",
       "      <td>561.98450</td>\n",
       "      <td>47.3</td>\n",
       "    </tr>\n",
       "    <tr>\n",
       "      <th>3</th>\n",
       "      <td>561.98450</td>\n",
       "      <td>54.8</td>\n",
       "    </tr>\n",
       "    <tr>\n",
       "      <th>4</th>\n",
       "      <td>390.56840</td>\n",
       "      <td>43.1</td>\n",
       "    </tr>\n",
       "    <tr>\n",
       "      <th>...</th>\n",
       "      <td>...</td>\n",
       "      <td>...</td>\n",
       "    </tr>\n",
       "    <tr>\n",
       "      <th>409</th>\n",
       "      <td>4082.01500</td>\n",
       "      <td>15.4</td>\n",
       "    </tr>\n",
       "    <tr>\n",
       "      <th>410</th>\n",
       "      <td>90.45606</td>\n",
       "      <td>50.0</td>\n",
       "    </tr>\n",
       "    <tr>\n",
       "      <th>411</th>\n",
       "      <td>390.96960</td>\n",
       "      <td>40.6</td>\n",
       "    </tr>\n",
       "    <tr>\n",
       "      <th>412</th>\n",
       "      <td>104.81010</td>\n",
       "      <td>52.5</td>\n",
       "    </tr>\n",
       "    <tr>\n",
       "      <th>413</th>\n",
       "      <td>90.45606</td>\n",
       "      <td>63.9</td>\n",
       "    </tr>\n",
       "  </tbody>\n",
       "</table>\n",
       "<p>414 rows × 2 columns</p>\n",
       "</div>"
      ],
      "text/plain": [
       "     distance_to_station  house_price\n",
       "0               84.87882         37.9\n",
       "1              306.59470         42.2\n",
       "2              561.98450         47.3\n",
       "3              561.98450         54.8\n",
       "4              390.56840         43.1\n",
       "..                   ...          ...\n",
       "409           4082.01500         15.4\n",
       "410             90.45606         50.0\n",
       "411            390.96960         40.6\n",
       "412            104.81010         52.5\n",
       "413             90.45606         63.9\n",
       "\n",
       "[414 rows x 2 columns]"
      ]
     },
     "execution_count": 22,
     "metadata": {},
     "output_type": "execute_result"
    }
   ],
   "source": [
    "dataset"
   ]
  },
  {
   "cell_type": "code",
   "execution_count": 23,
   "metadata": {
    "colab": {
     "base_uri": "https://localhost:8080/",
     "height": 130
    },
    "id": "pumlVM0VoCSR",
    "outputId": "813ab916-4463-4311-e0ea-04d06ebb580a"
   },
   "outputs": [
    {
     "data": {
      "text/html": [
       "<div>\n",
       "<style scoped>\n",
       "    .dataframe tbody tr th:only-of-type {\n",
       "        vertical-align: middle;\n",
       "    }\n",
       "\n",
       "    .dataframe tbody tr th {\n",
       "        vertical-align: top;\n",
       "    }\n",
       "\n",
       "    .dataframe thead th {\n",
       "        text-align: right;\n",
       "    }\n",
       "</style>\n",
       "<table border=\"1\" class=\"dataframe\">\n",
       "  <thead>\n",
       "    <tr style=\"text-align: right;\">\n",
       "      <th></th>\n",
       "      <th>distance_to_station</th>\n",
       "      <th>house_price</th>\n",
       "    </tr>\n",
       "  </thead>\n",
       "  <tbody>\n",
       "    <tr>\n",
       "      <th>distance_to_station</th>\n",
       "      <td>1.000000</td>\n",
       "      <td>-0.673613</td>\n",
       "    </tr>\n",
       "    <tr>\n",
       "      <th>house_price</th>\n",
       "      <td>-0.673613</td>\n",
       "      <td>1.000000</td>\n",
       "    </tr>\n",
       "  </tbody>\n",
       "</table>\n",
       "</div>"
      ],
      "text/plain": [
       "                     distance_to_station  house_price\n",
       "distance_to_station             1.000000    -0.673613\n",
       "house_price                    -0.673613     1.000000"
      ]
     },
     "execution_count": 23,
     "metadata": {},
     "output_type": "execute_result"
    }
   ],
   "source": [
    "dataset.corr()"
   ]
  },
  {
   "cell_type": "code",
   "execution_count": 24,
   "metadata": {
    "colab": {
     "base_uri": "https://localhost:8080/",
     "height": 315
    },
    "id": "1mSyAHRDtS94",
    "outputId": "1e60116a-b067-4f78-f199-95d13c7861e7",
    "scrolled": true
   },
   "outputs": [
    {
     "data": {
      "image/png": "[encoded data removed]",
      "text/plain": [
       "<Figure size 432x288 with 1 Axes>"
      ]
     },
     "metadata": {
      "needs_background": "light"
     },
     "output_type": "display_data"
    }
   ],
   "source": [
    "data = pd.DataFrame(dataset)\n",
    "plt.scatter(data.distance_to_station, data.house_price)\n",
    "plt.xlabel(\"Distance to Station\")\n",
    "plt.ylabel('House Price')\n",
    "plt.title(\"Perbandingan Distance to Station vs House Price\")\n",
    "plt.show()"
   ]
  },
  {
   "cell_type": "markdown",
   "metadata": {
    "id": "FykGyR35tS96"
   },
   "source": [
    "## Training"
   ]
  },
  {
   "cell_type": "code",
   "execution_count": 25,
   "metadata": {
    "id": "5RUGRKf4tS97"
   },
   "outputs": [],
   "source": [
    "#Membagi dataset menjadi data train dan data test\n",
    "x = np.array(data.distance_to_station)\n",
    "y = np.array(data.house_price)\n",
    "\n",
    "x_train = x.reshape(-1,1)\n",
    "y_train = y\n"
   ]
  },
  {
   "cell_type": "code",
   "execution_count": 26,
   "metadata": {
    "colab": {
     "base_uri": "https://localhost:8080/"
    },
    "id": "vmZ5y4APtS98",
    "outputId": "2c4f3cff-c587-4660-fe95-e825f5344b6f"
   },
   "outputs": [
    {
     "name": "stdout",
     "output_type": "stream",
     "text": [
      "[  84.87882  306.5947   561.9845   561.9845   390.5684  2175.03\n",
      "  623.4731   287.6025  5512.038   1783.18     405.2134    90.45606\n",
      "  492.2313  2469.645   1164.838    579.2083   292.9978   350.8515\n",
      "  368.1363    23.38284 2275.877    279.1726  1360.139    279.1726\n",
      "  480.6977  1487.868    383.8624   276.449    557.478    451.2438\n",
      " 4519.69     769.4034   488.5727   323.655    205.367   4079.418\n",
      " 1935.009   1360.139    577.9615   289.3248  4082.015   4066.587\n",
      "  519.4617   512.7871   533.4762   488.8193   463.9623   640.7391\n",
      " 4605.749   4510.359    512.5487  1758.406   1438.579    492.2313\n",
      "  289.3248  1160.632    371.2495    56.47425 4510.359    336.0532\n",
      " 1931.207    259.6607  2175.877    533.4762   995.7554   123.7429\n",
      "  193.5845   104.8101   464.223    561.9845    90.45606  640.7391\n",
      "  424.5442  4082.015    379.5575  1360.139    616.4004  2185.128\n",
      "  552.4371  1414.837    533.4762   377.7956   150.9347  2707.392\n",
      "  383.2805   338.9679  1455.798   4066.587   1406.43    3947.945\n",
      "  274.0144  1402.016   2469.645   1146.329    167.5989   104.8101\n",
      "   90.45606  617.4424   289.3248    90.45606  964.7496   170.1289\n",
      "  193.5845   208.3905   392.4459   292.9978   189.5181  1360.139\n",
      "  592.5006  2147.376    104.8101   196.6172  2102.427    393.2606\n",
      "  143.8383   737.9161  6396.283   4197.349   1583.722    289.3248\n",
      "  492.2313   492.2313   414.9476   185.4296   279.1726   193.5845\n",
      "  804.6897   383.8624   124.9912   216.8329   535.527   2147.376\n",
      "  482.7581   373.3937   186.9686  1009.235    390.5684   319.0708\n",
      "  942.4664   492.2313   289.3248  1559.827    640.6071   492.2313\n",
      " 1360.139    451.2438   185.4296   489.8821  3780.59     179.4538\n",
      "  170.7311   387.7721  1360.139    376.1709  4066.587   4082.015\n",
      " 1264.73     815.9314   390.5684   815.9314    49.66105  616.4004\n",
      " 4066.587    104.8101   185.4296  1236.564    292.9978   330.0854\n",
      "  515.1122  1962.628   4527.687    383.8624    90.45606  401.8807\n",
      "  432.0385   472.1745  4573.779    181.0766  1144.436    438.8513\n",
      " 4449.27     201.8939  2147.376   4082.015   2615.465   1447.286\n",
      " 2185.128   3078.176    190.0392  4066.587    616.5735   750.0704\n",
      "   57.58945  421.479   3771.895    461.1016   707.9067   126.7286\n",
      "  157.6052   451.6419   995.7554   561.9845   642.6985   289.3248\n",
      " 1414.837   1449.722    379.5575   665.0636  1360.139    175.6294\n",
      "  390.5684   274.0144  1805.665     90.45606 1783.18     383.7129\n",
      "  590.9292   372.6242   492.2313   529.7771   186.5101  1402.016\n",
      "  431.1114  1402.016    324.9419   193.5845  4082.015    265.0609\n",
      " 3171.329   1156.412   2147.376   4074.736   4412.765    333.3679\n",
      " 2216.612    250.631    373.8389   732.8528   732.8528   837.7233\n",
      " 1712.632    250.631   2077.39     204.1705  1559.827    639.6198\n",
      "  389.8219  1055.067   1009.235   6306.153    424.7132  1159.454\n",
      "   90.45606 1735.595    329.9747  5512.038    339.2289   444.1334\n",
      "  292.9978   837.7233  1485.097   2288.011    289.3248  2147.376\n",
      "  493.657    815.9314  1783.18     482.7581   390.5684   837.7233\n",
      "  252.5822   451.6419   492.2313   170.1289   394.0173    23.38284\n",
      "  461.1016  2185.128    208.3905  1554.25     184.3302   387.7721\n",
      " 1455.798   1978.671    383.2805   718.2937    90.45606  461.1016\n",
      "  323.6912   289.3248   490.3446    56.47425  395.6747   383.2805\n",
      "  335.5273  2179.59    1144.436    567.0349  4082.015    121.7262\n",
      "  156.2442   461.7848  2288.011    439.7105  1626.083    289.3248\n",
      "  169.9803  3079.89     289.3248  1264.73    1643.499    537.7971\n",
      "  318.5292   104.8101   577.9615  1756.411    250.631    752.7669\n",
      "  379.5575   272.6783  4197.349    964.7496   187.4823   197.1338\n",
      " 1712.632    488.8193    56.47425  757.3377  1497.713   4197.349\n",
      " 1156.777   4519.69     617.7134   104.8101  1013.341    337.6016\n",
      " 1867.233    600.8604   258.186    329.9747   270.8895   750.0704\n",
      "   90.45606  563.2854  3085.17     185.4296  1712.632   6488.021\n",
      "  259.6607   104.8101   492.2313  2180.245   2674.961   2147.376\n",
      " 1360.139    383.8624   211.4473   338.9679   193.5845  2408.993\n",
      "   87.30222  281.205    967.4      109.9455   614.1394  2261.432\n",
      " 1801.544   1828.319    350.8515  2185.128    289.3248   312.8963\n",
      "  157.6052   274.0144   390.5684  1157.988   1717.193     49.66105\n",
      "  587.8877   292.9978   289.3248   132.5469  3529.564    506.1144\n",
      " 4066.587     82.88643  185.4296  2103.555   2251.938    122.3619\n",
      "  377.8302  1939.749    443.802    967.4     4136.271    512.5487\n",
      "  918.6357  1164.838   1717.193    170.1289   482.7581  2175.03\n",
      "  187.4823   161.942    289.3248   130.9945   372.1386  2408.993\n",
      " 2175.744   4082.015     90.45606  390.9696   104.8101    90.45606] [[  84.87882]\n",
      " [ 306.5947 ]\n",
      " [ 561.9845 ]\n",
      " [ 561.9845 ]\n",
      " [ 390.5684 ]\n",
      " [2175.03   ]\n",
      " [ 623.4731 ]\n",
      " [ 287.6025 ]\n",
      " [5512.038  ]\n",
      " [1783.18   ]\n",
      " [ 405.2134 ]\n",
      " [  90.45606]\n",
      " [ 492.2313 ]\n",
      " [2469.645  ]\n",
      " [1164.838  ]\n",
      " [ 579.2083 ]\n",
      " [ 292.9978 ]\n",
      " [ 350.8515 ]\n",
      " [ 368.1363 ]\n",
      " [  23.38284]\n",
      " [2275.877  ]\n",
      " [ 279.1726 ]\n",
      " [1360.139  ]\n",
      " [ 279.1726 ]\n",
      " [ 480.6977 ]\n",
      " [1487.868  ]\n",
      " [ 383.8624 ]\n",
      " [ 276.449  ]\n",
      " [ 557.478  ]\n",
      " [ 451.2438 ]\n",
      " [4519.69   ]\n",
      " [ 769.4034 ]\n",
      " [ 488.5727 ]\n",
      " [ 323.655  ]\n",
      " [ 205.367  ]\n",
      " [4079.418  ]\n",
      " [1935.009  ]\n",
      " [1360.139  ]\n",
      " [ 577.9615 ]\n",
      " [ 289.3248 ]\n",
      " [4082.015  ]\n",
      " [4066.587  ]\n",
      " [ 519.4617 ]\n",
      " [ 512.7871 ]\n",
      " [ 533.4762 ]\n",
      " [ 488.8193 ]\n",
      " [ 463.9623 ]\n",
      " [ 640.7391 ]\n",
      " [4605.749  ]\n",
      " [4510.359  ]\n",
      " [ 512.5487 ]\n",
      " [1758.406  ]\n",
      " [1438.579  ]\n",
      " [ 492.2313 ]\n",
      " [ 289.3248 ]\n",
      " [1160.632  ]\n",
      " [ 371.2495 ]\n",
      " [  56.47425]\n",
      " [4510.359  ]\n",
      " [ 336.0532 ]\n",
      " [1931.207  ]\n",
      " [ 259.6607 ]\n",
      " [2175.877  ]\n",
      " [ 533.4762 ]\n",
      " [ 995.7554 ]\n",
      " [ 123.7429 ]\n",
      " [ 193.5845 ]\n",
      " [ 104.8101 ]\n",
      " [ 464.223  ]\n",
      " [ 561.9845 ]\n",
      " [  90.45606]\n",
      " [ 640.7391 ]\n",
      " [ 424.5442 ]\n",
      " [4082.015  ]\n",
      " [ 379.5575 ]\n",
      " [1360.139  ]\n",
      " [ 616.4004 ]\n",
      " [2185.128  ]\n",
      " [ 552.4371 ]\n",
      " [1414.837  ]\n",
      " [ 533.4762 ]\n",
      " [ 377.7956 ]\n",
      " [ 150.9347 ]\n",
      " [2707.392  ]\n",
      " [ 383.2805 ]\n",
      " [ 338.9679 ]\n",
      " [1455.798  ]\n",
      " [4066.587  ]\n",
      " [1406.43   ]\n",
      " [3947.945  ]\n",
      " [ 274.0144 ]\n",
      " [1402.016  ]\n",
      " [2469.645  ]\n",
      " [1146.329  ]\n",
      " [ 167.5989 ]\n",
      " [ 104.8101 ]\n",
      " [  90.45606]\n",
      " [ 617.4424 ]\n",
      " [ 289.3248 ]\n",
      " [  90.45606]\n",
      " [ 964.7496 ]\n",
      " [ 170.1289 ]\n",
      " [ 193.5845 ]\n",
      " [ 208.3905 ]\n",
      " [ 392.4459 ]\n",
      " [ 292.9978 ]\n",
      " [ 189.5181 ]\n",
      " [1360.139  ]\n",
      " [ 592.5006 ]\n",
      " [2147.376  ]\n",
      " [ 104.8101 ]\n",
      " [ 196.6172 ]\n",
      " [2102.427  ]\n",
      " [ 393.2606 ]\n",
      " [ 143.8383 ]\n",
      " [ 737.9161 ]\n",
      " [6396.283  ]\n",
      " [4197.349  ]\n",
      " [1583.722  ]\n",
      " [ 289.3248 ]\n",
      " [ 492.2313 ]\n",
      " [ 492.2313 ]\n",
      " [ 414.9476 ]\n",
      " [ 185.4296 ]\n",
      " [ 279.1726 ]\n",
      " [ 193.5845 ]\n",
      " [ 804.6897 ]\n",
      " [ 383.8624 ]\n",
      " [ 124.9912 ]\n",
      " [ 216.8329 ]\n",
      " [ 535.527  ]\n",
      " [2147.376  ]\n",
      " [ 482.7581 ]\n",
      " [ 373.3937 ]\n",
      " [ 186.9686 ]\n",
      " [1009.235  ]\n",
      " [ 390.5684 ]\n",
      " [ 319.0708 ]\n",
      " [ 942.4664 ]\n",
      " [ 492.2313 ]\n",
      " [ 289.3248 ]\n",
      " [1559.827  ]\n",
      " [ 640.6071 ]\n",
      " [ 492.2313 ]\n",
      " [1360.139  ]\n",
      " [ 451.2438 ]\n",
      " [ 185.4296 ]\n",
      " [ 489.8821 ]\n",
      " [3780.59   ]\n",
      " [ 179.4538 ]\n",
      " [ 170.7311 ]\n",
      " [ 387.7721 ]\n",
      " [1360.139  ]\n",
      " [ 376.1709 ]\n",
      " [4066.587  ]\n",
      " [4082.015  ]\n",
      " [1264.73   ]\n",
      " [ 815.9314 ]\n",
      " [ 390.5684 ]\n",
      " [ 815.9314 ]\n",
      " [  49.66105]\n",
      " [ 616.4004 ]\n",
      " [4066.587  ]\n",
      " [ 104.8101 ]\n",
      " [ 185.4296 ]\n",
      " [1236.564  ]\n",
      " [ 292.9978 ]\n",
      " [ 330.0854 ]\n",
      " [ 515.1122 ]\n",
      " [1962.628  ]\n",
      " [4527.687  ]\n",
      " [ 383.8624 ]\n",
      " [  90.45606]\n",
      " [ 401.8807 ]\n",
      " [ 432.0385 ]\n",
      " [ 472.1745 ]\n",
      " [4573.779  ]\n",
      " [ 181.0766 ]\n",
      " [1144.436  ]\n",
      " [ 438.8513 ]\n",
      " [4449.27   ]\n",
      " [ 201.8939 ]\n",
      " [2147.376  ]\n",
      " [4082.015  ]\n",
      " [2615.465  ]\n",
      " [1447.286  ]\n",
      " [2185.128  ]\n",
      " [3078.176  ]\n",
      " [ 190.0392 ]\n",
      " [4066.587  ]\n",
      " [ 616.5735 ]\n",
      " [ 750.0704 ]\n",
      " [  57.58945]\n",
      " [ 421.479  ]\n",
      " [3771.895  ]\n",
      " [ 461.1016 ]\n",
      " [ 707.9067 ]\n",
      " [ 126.7286 ]\n",
      " [ 157.6052 ]\n",
      " [ 451.6419 ]\n",
      " [ 995.7554 ]\n",
      " [ 561.9845 ]\n",
      " [ 642.6985 ]\n",
      " [ 289.3248 ]\n",
      " [1414.837  ]\n",
      " [1449.722  ]\n",
      " [ 379.5575 ]\n",
      " [ 665.0636 ]\n",
      " [1360.139  ]\n",
      " [ 175.6294 ]\n",
      " [ 390.5684 ]\n",
      " [ 274.0144 ]\n",
      " [1805.665  ]\n",
      " [  90.45606]\n",
      " [1783.18   ]\n",
      " [ 383.7129 ]\n",
      " [ 590.9292 ]\n",
      " [ 372.6242 ]\n",
      " [ 492.2313 ]\n",
      " [ 529.7771 ]\n",
      " [ 186.5101 ]\n",
      " [1402.016  ]\n",
      " [ 431.1114 ]\n",
      " [1402.016  ]\n",
      " [ 324.9419 ]\n",
      " [ 193.5845 ]\n",
      " [4082.015  ]\n",
      " [ 265.0609 ]\n",
      " [3171.329  ]\n",
      " [1156.412  ]\n",
      " [2147.376  ]\n",
      " [4074.736  ]\n",
      " [4412.765  ]\n",
      " [ 333.3679 ]\n",
      " [2216.612  ]\n",
      " [ 250.631  ]\n",
      " [ 373.8389 ]\n",
      " [ 732.8528 ]\n",
      " [ 732.8528 ]\n",
      " [ 837.7233 ]\n",
      " [1712.632  ]\n",
      " [ 250.631  ]\n",
      " [2077.39   ]\n",
      " [ 204.1705 ]\n",
      " [1559.827  ]\n",
      " [ 639.6198 ]\n",
      " [ 389.8219 ]\n",
      " [1055.067  ]\n",
      " [1009.235  ]\n",
      " [6306.153  ]\n",
      " [ 424.7132 ]\n",
      " [1159.454  ]\n",
      " [  90.45606]\n",
      " [1735.595  ]\n",
      " [ 329.9747 ]\n",
      " [5512.038  ]\n",
      " [ 339.2289 ]\n",
      " [ 444.1334 ]\n",
      " [ 292.9978 ]\n",
      " [ 837.7233 ]\n",
      " [1485.097  ]\n",
      " [2288.011  ]\n",
      " [ 289.3248 ]\n",
      " [2147.376  ]\n",
      " [ 493.657  ]\n",
      " [ 815.9314 ]\n",
      " [1783.18   ]\n",
      " [ 482.7581 ]\n",
      " [ 390.5684 ]\n",
      " [ 837.7233 ]\n",
      " [ 252.5822 ]\n",
      " [ 451.6419 ]\n",
      " [ 492.2313 ]\n",
      " [ 170.1289 ]\n",
      " [ 394.0173 ]\n",
      " [  23.38284]\n",
      " [ 461.1016 ]\n",
      " [2185.128  ]\n",
      " [ 208.3905 ]\n",
      " [1554.25   ]\n",
      " [ 184.3302 ]\n",
      " [ 387.7721 ]\n",
      " [1455.798  ]\n",
      " [1978.671  ]\n",
      " [ 383.2805 ]\n",
      " [ 718.2937 ]\n",
      " [  90.45606]\n",
      " [ 461.1016 ]\n",
      " [ 323.6912 ]\n",
      " [ 289.3248 ]\n",
      " [ 490.3446 ]\n",
      " [  56.47425]\n",
      " [ 395.6747 ]\n",
      " [ 383.2805 ]\n",
      " [ 335.5273 ]\n",
      " [2179.59   ]\n",
      " [1144.436  ]\n",
      " [ 567.0349 ]\n",
      " [4082.015  ]\n",
      " [ 121.7262 ]\n",
      " [ 156.2442 ]\n",
      " [ 461.7848 ]\n",
      " [2288.011  ]\n",
      " [ 439.7105 ]\n",
      " [1626.083  ]\n",
      " [ 289.3248 ]\n",
      " [ 169.9803 ]\n",
      " [3079.89   ]\n",
      " [ 289.3248 ]\n",
      " [1264.73   ]\n",
      " [1643.499  ]\n",
      " [ 537.7971 ]\n",
      " [ 318.5292 ]\n",
      " [ 104.8101 ]\n",
      " [ 577.9615 ]\n",
      " [1756.411  ]\n",
      " [ 250.631  ]\n",
      " [ 752.7669 ]\n",
      " [ 379.5575 ]\n",
      " [ 272.6783 ]\n",
      " [4197.349  ]\n",
      " [ 964.7496 ]\n",
      " [ 187.4823 ]\n",
      " [ 197.1338 ]\n",
      " [1712.632  ]\n",
      " [ 488.8193 ]\n",
      " [  56.47425]\n",
      " [ 757.3377 ]\n",
      " [1497.713  ]\n",
      " [4197.349  ]\n",
      " [1156.777  ]\n",
      " [4519.69   ]\n",
      " [ 617.7134 ]\n",
      " [ 104.8101 ]\n",
      " [1013.341  ]\n",
      " [ 337.6016 ]\n",
      " [1867.233  ]\n",
      " [ 600.8604 ]\n",
      " [ 258.186  ]\n",
      " [ 329.9747 ]\n",
      " [ 270.8895 ]\n",
      " [ 750.0704 ]\n",
      " [  90.45606]\n",
      " [ 563.2854 ]\n",
      " [3085.17   ]\n",
      " [ 185.4296 ]\n",
      " [1712.632  ]\n",
      " [6488.021  ]\n",
      " [ 259.6607 ]\n",
      " [ 104.8101 ]\n",
      " [ 492.2313 ]\n",
      " [2180.245  ]\n",
      " [2674.961  ]\n",
      " [2147.376  ]\n",
      " [1360.139  ]\n",
      " [ 383.8624 ]\n",
      " [ 211.4473 ]\n",
      " [ 338.9679 ]\n",
      " [ 193.5845 ]\n",
      " [2408.993  ]\n",
      " [  87.30222]\n",
      " [ 281.205  ]\n",
      " [ 967.4    ]\n",
      " [ 109.9455 ]\n",
      " [ 614.1394 ]\n",
      " [2261.432  ]\n",
      " [1801.544  ]\n",
      " [1828.319  ]\n",
      " [ 350.8515 ]\n",
      " [2185.128  ]\n",
      " [ 289.3248 ]\n",
      " [ 312.8963 ]\n",
      " [ 157.6052 ]\n",
      " [ 274.0144 ]\n",
      " [ 390.5684 ]\n",
      " [1157.988  ]\n",
      " [1717.193  ]\n",
      " [  49.66105]\n",
      " [ 587.8877 ]\n",
      " [ 292.9978 ]\n",
      " [ 289.3248 ]\n",
      " [ 132.5469 ]\n",
      " [3529.564  ]\n",
      " [ 506.1144 ]\n",
      " [4066.587  ]\n",
      " [  82.88643]\n",
      " [ 185.4296 ]\n",
      " [2103.555  ]\n",
      " [2251.938  ]\n",
      " [ 122.3619 ]\n",
      " [ 377.8302 ]\n",
      " [1939.749  ]\n",
      " [ 443.802  ]\n",
      " [ 967.4    ]\n",
      " [4136.271  ]\n",
      " [ 512.5487 ]\n",
      " [ 918.6357 ]\n",
      " [1164.838  ]\n",
      " [1717.193  ]\n",
      " [ 170.1289 ]\n",
      " [ 482.7581 ]\n",
      " [2175.03   ]\n",
      " [ 187.4823 ]\n",
      " [ 161.942  ]\n",
      " [ 289.3248 ]\n",
      " [ 130.9945 ]\n",
      " [ 372.1386 ]\n",
      " [2408.993  ]\n",
      " [2175.744  ]\n",
      " [4082.015  ]\n",
      " [  90.45606]\n",
      " [ 390.9696 ]\n",
      " [ 104.8101 ]\n",
      " [  90.45606]]\n"
     ]
    }
   ],
   "source": [
    "print(x, x_train)"
   ]
  },
  {
   "cell_type": "code",
   "execution_count": 27,
   "metadata": {
    "colab": {
     "base_uri": "https://localhost:8080/"
    },
    "id": "6yaSpRMctS99",
    "outputId": "60d70daa-6aa7-4c7f-d812-16f0d04b708e"
   },
   "outputs": [
    {
     "data": {
      "text/plain": [
       "LinearRegression()"
      ]
     },
     "execution_count": 27,
     "metadata": {},
     "output_type": "execute_result"
    }
   ],
   "source": [
    "#Training Proses \n",
    "from sklearn.linear_model import LinearRegression\n",
    "model = LinearRegression()\n",
    "model.fit(x_train, y_train)"
   ]
  },
  {
   "cell_type": "code",
   "execution_count": 28,
   "metadata": {
    "colab": {
     "base_uri": "https://localhost:8080/",
     "height": 315
    },
    "id": "lYMpdnXntS99",
    "outputId": "10ca3c08-9d9c-4c5f-e463-f5933a76ef0c"
   },
   "outputs": [
    {
     "data": {
      "image/png": "[encoded data removed]",
      "text/plain": [
       "<Figure size 432x288 with 1 Axes>"
      ]
     },
     "metadata": {
      "needs_background": "light"
     },
     "output_type": "display_data"
    }
   ],
   "source": [
    "plt.scatter(x_train, y_train, color = \"purple\")  \n",
    "plt.plot(x_train, model.predict(x_train), color = \"red\")\n",
    "plt.xlabel(\"Distance to Station\")\n",
    "plt.ylabel(\"House Price\")\n",
    "plt.title(\"Distance to Station vs House Price\")\n",
    "plt.show()\n"
   ]
  },
  {
   "cell_type": "code",
   "execution_count": 29,
   "metadata": {
    "colab": {
     "base_uri": "https://localhost:8080/"
    },
    "id": "T9Ghz-JXtS9-",
    "outputId": "7901e87a-6a75-408a-fc54-f0e6e72f1adc"
   },
   "outputs": [
    {
     "name": "stdout",
     "output_type": "stream",
     "text": [
      "intercept: 45.851427057774984\n",
      "slope: [-0.00726205]\n",
      "[4585.13544373]\n"
     ]
    }
   ],
   "source": [
    "print(f'intercept: {model.intercept_}') \n",
    "print(f'slope: {model.coef_}')\n",
    "\n",
    "print(model.coef_ + (model.intercept_*100))\n",
    "#intercept = b\n",
    "#slope = a\n",
    "#y = 6700.xxx"
   ]
  },
  {
   "cell_type": "markdown",
   "metadata": {
    "id": "PV5rbd7LtS9_"
   },
   "source": [
    "## Testing Process"
   ]
  },
  {
   "cell_type": "code",
   "execution_count": 30,
   "metadata": {
    "colab": {
     "base_uri": "https://localhost:8080/"
    },
    "id": "98tc0GJZtS9_",
    "outputId": "c06378d0-caaf-45ae-fa2a-01f61db01d55"
   },
   "outputs": [
    {
     "name": "stdout",
     "output_type": "stream",
     "text": [
      "[45.40117986 45.32129729 45.25593883 45.19784241 45.1252219 ]\n"
     ]
    }
   ],
   "source": [
    "x_test = np.array([62, 73, 82, 90, 100]).reshape(-1,1) \n",
    "y_test = np.array([160, 170, 180, 190, 200])\n",
    "\n",
    "prediksi_penjualan= model.predict(x_test)\n",
    "print(prediksi_penjualan)\n"
   ]
  },
  {
   "cell_type": "code",
   "execution_count": 31,
   "metadata": {
    "colab": {
     "base_uri": "https://localhost:8080/",
     "height": 315
    },
    "id": "fdrHeh3itS-A",
    "outputId": "c3337cc5-b92b-459c-96d1-9b0b33090a7d",
    "scrolled": true
   },
   "outputs": [
    {
     "data": {
      "image/png": "[encoded data removed]",
      "text/plain": [
       "<Figure size 432x288 with 1 Axes>"
      ]
     },
     "metadata": {
      "needs_background": "light"
     },
     "output_type": "display_data"
    }
   ],
   "source": [
    "plt.scatter(x_test, y_test, color = \"blue\")\n",
    "plt.plot(x_test, prediksi_penjualan, color = \"red\")\n",
    "plt.xlabel(\"Distance to Station\")\n",
    "plt.ylabel(\"House Price\")\n",
    "plt.title(\"Perbandingan Distance to Station vs House Price\")\n",
    "plt.show()"
   ]
  },
  {
   "cell_type": "markdown",
   "metadata": {
    "id": "Cb1ztYB5tS-B"
   },
   "source": [
    "## Cek Akurasi"
   ]
  },
  {
   "cell_type": "code",
   "execution_count": 32,
   "metadata": {
    "colab": {
     "base_uri": "https://localhost:8080/"
    },
    "id": "R02U21YCtS-B",
    "outputId": "ed0cd5ab-e775-46bd-9892-0d2660ad1f68"
   },
   "outputs": [
    {
     "name": "stdout",
     "output_type": "stream",
     "text": [
      "-90.78749224438378\n"
     ]
    }
   ],
   "source": [
    "from sklearn.metrics import r2_score\n",
    "akurasi = r2_score(y_test, prediksi_penjualan)\n",
    "print(akurasi)"
   ]
  },
  {
   "cell_type": "code",
   "execution_count": null,
   "metadata": {},
   "outputs": [],
   "source": []
  }
 ],
 "metadata": {
  "colab": {
   "provenance": []
  },
  "kernelspec": {
   "display_name": "Python 3",
   "language": "python",
   "name": "python3"
  },
  "language_info": {
   "codemirror_mode": {
    "name": "ipython",
    "version": 3
   },
   "file_extension": ".py",
   "mimetype": "text/x-python",
   "name": "python",
   "nbconvert_exporter": "python",
   "pygments_lexer": "ipython3",
   "version": "3.8.8"
  }
 },
 "nbformat": 4,
 "nbformat_minor": 1
}
